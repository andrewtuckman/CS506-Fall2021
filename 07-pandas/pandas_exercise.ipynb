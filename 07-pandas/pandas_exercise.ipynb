{
 "cells": [
  {
   "cell_type": "markdown",
   "metadata": {},
   "source": [
    "<font size=\"8\"> Introduction to Pandas </font> "
   ]
  },
  {
   "cell_type": "markdown",
   "metadata": {},
   "source": [
    "\n",
    "<font size=\"5\"> Import libraries </font>  \n"
   ]
  },
  {
   "cell_type": "code",
   "execution_count": 32,
   "metadata": {},
   "outputs": [],
   "source": [
    "import numpy as np\n",
    "import pandas as pd"
   ]
  },
  {
   "cell_type": "markdown",
   "metadata": {},
   "source": [
    "<font size=\"5\"> Initializing instances in Pandas </font>  \n",
    "\n"
   ]
  },
  {
   "cell_type": "code",
   "execution_count": 33,
   "metadata": {},
   "outputs": [
    {
     "data": {
      "text/html": [
       "<div>\n",
       "<style scoped>\n",
       "    .dataframe tbody tr th:only-of-type {\n",
       "        vertical-align: middle;\n",
       "    }\n",
       "\n",
       "    .dataframe tbody tr th {\n",
       "        vertical-align: top;\n",
       "    }\n",
       "\n",
       "    .dataframe thead th {\n",
       "        text-align: right;\n",
       "    }\n",
       "</style>\n",
       "<table border=\"1\" class=\"dataframe\">\n",
       "  <thead>\n",
       "    <tr style=\"text-align: right;\">\n",
       "      <th></th>\n",
       "      <th>Name</th>\n",
       "      <th>Age</th>\n",
       "      <th>Salary</th>\n",
       "      <th>Group</th>\n",
       "    </tr>\n",
       "  </thead>\n",
       "  <tbody>\n",
       "    <tr>\n",
       "      <td>0</td>\n",
       "      <td>Elaine</td>\n",
       "      <td>44</td>\n",
       "      <td>7000</td>\n",
       "      <td>MA</td>\n",
       "    </tr>\n",
       "    <tr>\n",
       "      <td>1</td>\n",
       "      <td>Josh</td>\n",
       "      <td>17</td>\n",
       "      <td>5800</td>\n",
       "      <td>NW</td>\n",
       "    </tr>\n",
       "    <tr>\n",
       "      <td>2</td>\n",
       "      <td>Lin</td>\n",
       "      <td>64</td>\n",
       "      <td>7900</td>\n",
       "      <td>NM</td>\n",
       "    </tr>\n",
       "    <tr>\n",
       "      <td>3</td>\n",
       "      <td>Naho</td>\n",
       "      <td>33</td>\n",
       "      <td>5600</td>\n",
       "      <td>WA</td>\n",
       "    </tr>\n",
       "    <tr>\n",
       "      <td>4</td>\n",
       "      <td>Steve</td>\n",
       "      <td>45</td>\n",
       "      <td>6700</td>\n",
       "      <td>PA</td>\n",
       "    </tr>\n",
       "    <tr>\n",
       "      <td>5</td>\n",
       "      <td>Charles</td>\n",
       "      <td>25</td>\n",
       "      <td>5900</td>\n",
       "      <td>TX</td>\n",
       "    </tr>\n",
       "  </tbody>\n",
       "</table>\n",
       "</div>"
      ],
      "text/plain": [
       "      Name  Age  Salary Group\n",
       "0   Elaine   44    7000    MA\n",
       "1     Josh   17    5800    NW\n",
       "2      Lin   64    7900    NM\n",
       "3     Naho   33    5600    WA\n",
       "4    Steve   45    6700    PA\n",
       "5  Charles   25    5900    TX"
      ]
     },
     "execution_count": 33,
     "metadata": {},
     "output_type": "execute_result"
    }
   ],
   "source": [
    "df = pd.DataFrame({'Name': ['Elaine', 'Josh', 'Lin', 'Naho', 'Steve', 'Charles'],\n",
    "                   'Age': [44, 17, 64, 33, 45, 25],\n",
    "                   'Salary': [7000, 5800, 7900, 5600, 6700, 5900],\n",
    "                   'Group': ['MA', 'NW', 'NM', 'WA', 'PA', 'TX']})\n",
    "df"
   ]
  },
  {
   "cell_type": "code",
   "execution_count": null,
   "metadata": {},
   "outputs": [],
   "source": []
  },
  {
   "cell_type": "markdown",
   "metadata": {},
   "source": [
    "\n",
    "<font size=\"5\"> Overview of the dataframe </font>  \n"
   ]
  },
  {
   "cell_type": "code",
   "execution_count": 3,
   "metadata": {},
   "outputs": [
    {
     "name": "stdout",
     "output_type": "stream",
     "text": [
      "     Name  Age  Salary Group\n",
      "0  Elaine   44    7000    MA\n",
      "1    Josh   17    5800    NW\n",
      "2     Lin   64    7900    NM\n",
      "3    Naho   33    5600    WA\n",
      "4   Steve   45    6700    PA\n"
     ]
    }
   ],
   "source": [
    "# check top rows\n",
    "print(df.head())"
   ]
  },
  {
   "cell_type": "code",
   "execution_count": 4,
   "metadata": {},
   "outputs": [
    {
     "name": "stdout",
     "output_type": "stream",
     "text": [
      "      Name  Age  Salary Group\n",
      "3     Naho   33    5600    WA\n",
      "4    Steve   45    6700    PA\n",
      "5  Charles   25    5900    TX\n"
     ]
    }
   ],
   "source": [
    "# check bottom rows\n",
    "print(df.tail(3)) "
   ]
  },
  {
   "cell_type": "code",
   "execution_count": 43,
   "metadata": {},
   "outputs": [
    {
     "name": "stdout",
     "output_type": "stream",
     "text": [
      "RangeIndex(start=0, stop=6, step=1)\n",
      "0 Elaine 44\n",
      "1 Josh 17\n",
      "2 Lin 64\n",
      "3 Naho 33\n",
      "4 Steve 45\n",
      "5 Charles 25\n"
     ]
    }
   ],
   "source": [
    "# check index\n",
    "print(df.index) \n",
    "\n",
    "# testing functionality of index\n",
    "for i in df.index:\n",
    "    print(i, df['Name'][i], df['Age'][i])\n"
   ]
  },
  {
   "cell_type": "code",
   "execution_count": 45,
   "metadata": {},
   "outputs": [
    {
     "name": "stdout",
     "output_type": "stream",
     "text": [
      "Index(['Name', 'Age', 'Salary', 'Group'], dtype='object')\n",
      "Josh\n",
      "17\n",
      "5800\n",
      "NW\n"
     ]
    }
   ],
   "source": [
    "# check attribute names\n",
    "print(df.columns) \n",
    "\n",
    "# testing functionality of columns\n",
    "for c in df.columns:\n",
    "    print(df[c][1])"
   ]
  },
  {
   "cell_type": "code",
   "execution_count": 41,
   "metadata": {},
   "outputs": [
    {
     "name": "stdout",
     "output_type": "stream",
     "text": [
      "Name      ElaineJoshLinNahoSteveCharles\n",
      "Age                                 228\n",
      "Salary                            38900\n",
      "Group                      MANWNMWAPATX\n",
      "dtype: object\n",
      "Total salary:  38900\n"
     ]
    }
   ],
   "source": [
    "# check sum \n",
    "print(df.sum())\n",
    "\n",
    "# testing functionality of sum()\n",
    "print(\"Total salary: \", df.sum()['Salary'])"
   ]
  },
  {
   "cell_type": "code",
   "execution_count": 42,
   "metadata": {},
   "outputs": [
    {
     "name": "stdout",
     "output_type": "stream",
     "text": [
      "Age         38.000000\n",
      "Salary    6483.333333\n",
      "dtype: float64\n",
      "Mean age:  38.0\n"
     ]
    }
   ],
   "source": [
    "# check mean\n",
    "print(df.mean())\n",
    "\n",
    "# testing functionality of mean()\n",
    "print(\"Mean age: \", df.mean()['Age'])"
   ]
  },
  {
   "cell_type": "markdown",
   "metadata": {},
   "source": [
    "<font size=\"5\"> Basic operations </font>  \n"
   ]
  },
  {
   "cell_type": "code",
   "execution_count": 47,
   "metadata": {},
   "outputs": [
    {
     "name": "stdout",
     "output_type": "stream",
     "text": [
      "0    44\n",
      "1    17\n",
      "2    64\n",
      "3    33\n",
      "4    45\n",
      "5    25\n",
      "Name: Age, dtype: int64\n"
     ]
    }
   ],
   "source": [
    "# Taking subsets of columns\n",
    "print(df['Age'])"
   ]
  },
  {
   "cell_type": "code",
   "execution_count": 10,
   "metadata": {},
   "outputs": [
    {
     "name": "stdout",
     "output_type": "stream",
     "text": [
      "   Name  Age  Salary Group\n",
      "2   Lin   64    7900    NM\n",
      "3  Naho   33    5600    WA\n"
     ]
    }
   ],
   "source": [
    "# Selecting rows with index\n",
    "print(df[2:4])"
   ]
  },
  {
   "cell_type": "code",
   "execution_count": 11,
   "metadata": {},
   "outputs": [
    {
     "name": "stdout",
     "output_type": "stream",
     "text": [
      "   Salary   Name\n",
      "1    5800   Josh\n",
      "2    7900    Lin\n",
      "3    5600   Naho\n",
      "4    6700  Steve\n"
     ]
    }
   ],
   "source": [
    "# Selecting rows and columns together with value\n",
    "print(df.loc[1:4, ['Salary','Name']])"
   ]
  },
  {
   "cell_type": "code",
   "execution_count": 52,
   "metadata": {},
   "outputs": [
    {
     "name": "stdout",
     "output_type": "stream",
     "text": [
      "   Salary Group\n",
      "1    5800    NW\n",
      "2    7900    NM\n",
      "3    5600    WA\n"
     ]
    }
   ],
   "source": [
    "# Selecting rows and columns together with index\n",
    "print(df.iloc[1:4, 2:4])\n",
    "\n",
    "# Note: unlike in previous exmaples where specific items are accessed like df[col][row], \n",
    "# this more resembles a 2-D list where it is df.iloc[row, col]"
   ]
  },
  {
   "cell_type": "code",
   "execution_count": 13,
   "metadata": {},
   "outputs": [
    {
     "name": "stdout",
     "output_type": "stream",
     "text": [
      "   Age Group\n",
      "1   17    NW\n",
      "3   33    WA\n",
      "4   45    PA\n"
     ]
    }
   ],
   "source": [
    "# Selecting rows and columns together with index\n",
    "print(df.iloc[[1,3,4], [1,3]])"
   ]
  },
  {
   "cell_type": "code",
   "execution_count": 14,
   "metadata": {},
   "outputs": [
    {
     "name": "stdout",
     "output_type": "stream",
     "text": [
      "      Name  Age  Salary Group\n",
      "0   Elaine   44    7000    MA\n",
      "1     Josh   17    5800    NW\n",
      "2      Lin   64    7900    NM\n",
      "3     Naho   33    5600    WA\n",
      "4    Steve   45    6700    PA\n",
      "5  Charles   25    5900    TX\n"
     ]
    }
   ],
   "source": [
    "# Selecting with query\n",
    "print(df[df['Salary']>100])"
   ]
  },
  {
   "cell_type": "code",
   "execution_count": 15,
   "metadata": {},
   "outputs": [
    {
     "name": "stdout",
     "output_type": "stream",
     "text": [
      "     Name  Age  Salary Group\n",
      "0  Elaine   44    7000    MA\n",
      "2     Lin   64    7900    NM\n",
      "3    Naho   33    5600    WA\n",
      "4   Steve   45    6700    PA\n"
     ]
    }
   ],
   "source": [
    "# Selecting with multiple queries\n",
    "print(df[(df['Salary']>100) & (df['Age']>30)])"
   ]
  },
  {
   "cell_type": "code",
   "execution_count": 16,
   "metadata": {},
   "outputs": [
    {
     "name": "stdout",
     "output_type": "stream",
     "text": [
      "      Name  Age  Salary Group\n",
      "2      Lin   64    7900    NM\n",
      "4    Steve   45    6700    PA\n",
      "0   Elaine   44    7000    MA\n",
      "3     Naho   33    5600    WA\n",
      "5  Charles   25    5900    TX\n",
      "1     Josh   17    5800    NW\n"
     ]
    }
   ],
   "source": [
    "# sort according to specific attribute\n",
    "print(df.sort_values(by='Age', ascending=False)) "
   ]
  },
  {
   "cell_type": "code",
   "execution_count": 17,
   "metadata": {},
   "outputs": [
    {
     "data": {
      "text/html": [
       "<div>\n",
       "<style scoped>\n",
       "    .dataframe tbody tr th:only-of-type {\n",
       "        vertical-align: middle;\n",
       "    }\n",
       "\n",
       "    .dataframe tbody tr th {\n",
       "        vertical-align: top;\n",
       "    }\n",
       "\n",
       "    .dataframe thead th {\n",
       "        text-align: right;\n",
       "    }\n",
       "</style>\n",
       "<table border=\"1\" class=\"dataframe\">\n",
       "  <thead>\n",
       "    <tr style=\"text-align: right;\">\n",
       "      <th></th>\n",
       "      <th>Name</th>\n",
       "      <th>Age</th>\n",
       "      <th>Salary</th>\n",
       "      <th>Group</th>\n",
       "    </tr>\n",
       "  </thead>\n",
       "  <tbody>\n",
       "    <tr>\n",
       "      <td>0</td>\n",
       "      <td>Elaine</td>\n",
       "      <td>44.0</td>\n",
       "      <td>7000.0</td>\n",
       "      <td>MA</td>\n",
       "    </tr>\n",
       "    <tr>\n",
       "      <td>1</td>\n",
       "      <td>Josh</td>\n",
       "      <td>17.0</td>\n",
       "      <td>5800.0</td>\n",
       "      <td>NW</td>\n",
       "    </tr>\n",
       "    <tr>\n",
       "      <td>2</td>\n",
       "      <td>Lin</td>\n",
       "      <td>64.0</td>\n",
       "      <td>7900.0</td>\n",
       "      <td>NM</td>\n",
       "    </tr>\n",
       "    <tr>\n",
       "      <td>3</td>\n",
       "      <td>Naho</td>\n",
       "      <td>33.0</td>\n",
       "      <td>5600.0</td>\n",
       "      <td>WA</td>\n",
       "    </tr>\n",
       "    <tr>\n",
       "      <td>4</td>\n",
       "      <td>Steve</td>\n",
       "      <td>45.0</td>\n",
       "      <td>6700.0</td>\n",
       "      <td>PA</td>\n",
       "    </tr>\n",
       "    <tr>\n",
       "      <td>5</td>\n",
       "      <td>Charles</td>\n",
       "      <td>25.0</td>\n",
       "      <td>5900.0</td>\n",
       "      <td>TX</td>\n",
       "    </tr>\n",
       "    <tr>\n",
       "      <td>6</td>\n",
       "      <td>Chris</td>\n",
       "      <td>18.0</td>\n",
       "      <td>NaN</td>\n",
       "      <td>NV</td>\n",
       "    </tr>\n",
       "    <tr>\n",
       "      <td>7</td>\n",
       "      <td>Peter</td>\n",
       "      <td>NaN</td>\n",
       "      <td>9.0</td>\n",
       "      <td>FL</td>\n",
       "    </tr>\n",
       "  </tbody>\n",
       "</table>\n",
       "</div>"
      ],
      "text/plain": [
       "      Name   Age  Salary Group\n",
       "0   Elaine  44.0  7000.0    MA\n",
       "1     Josh  17.0  5800.0    NW\n",
       "2      Lin  64.0  7900.0    NM\n",
       "3     Naho  33.0  5600.0    WA\n",
       "4    Steve  45.0  6700.0    PA\n",
       "5  Charles  25.0  5900.0    TX\n",
       "6    Chris  18.0     NaN    NV\n",
       "7    Peter   NaN     9.0    FL"
      ]
     },
     "execution_count": 17,
     "metadata": {},
     "output_type": "execute_result"
    }
   ],
   "source": [
    "# appending another DataFrame to the old one\n",
    "df2 = pd.DataFrame({'Name': ['Chris', 'Peter'],\n",
    "                   'Age': [18, np.nan],\n",
    "                   'Salary': [np.nan, 9],\n",
    "                   'Group': ['NV', 'FL']})\n",
    "\n",
    "df_new = df.append(df2, ignore_index=True)\n",
    "df_new"
   ]
  },
  {
   "cell_type": "code",
   "execution_count": 18,
   "metadata": {},
   "outputs": [
    {
     "name": "stdout",
     "output_type": "stream",
     "text": [
      "      Name   Age  Salary Group\n",
      "0   Elaine  44.0  7000.0    MA\n",
      "1     Josh  17.0  5800.0    NW\n",
      "2      Lin  64.0  7900.0    NM\n",
      "3     Naho  33.0  5600.0    WA\n",
      "4    Steve  45.0  6700.0    PA\n",
      "5  Charles  25.0  5900.0    TX\n",
      "7    Peter   NaN     9.0    FL\n"
     ]
    }
   ],
   "source": [
    "# filter out NaN values\n",
    "print(df_new.dropna(how='any', subset=['Salary']))\n"
   ]
  },
  {
   "cell_type": "code",
   "execution_count": 19,
   "metadata": {},
   "outputs": [
    {
     "name": "stdout",
     "output_type": "stream",
     "text": [
      "      Name   Age Salary Group\n",
      "0   Elaine    44   7000    MA\n",
      "1     Josh    17   5800    NW\n",
      "2      Lin    64   7900    NM\n",
      "3     Naho    33   5600    WA\n",
      "4    Steve    45   6700    PA\n",
      "5  Charles    25   5900    TX\n",
      "6    Chris    18   None    NV\n",
      "7    Peter  None      9    FL\n"
     ]
    }
   ],
   "source": [
    "# replace NaN values with specified value\n",
    "print(df_new.fillna(value='None'))"
   ]
  },
  {
   "cell_type": "code",
   "execution_count": 20,
   "metadata": {},
   "outputs": [
    {
     "name": "stdout",
     "output_type": "stream",
     "text": [
      "[['Elaine' 44.0 7000.0 'MA']\n",
      " ['Josh' 17.0 5800.0 'NW']\n",
      " ['Lin' 64.0 7900.0 'NM']\n",
      " ['Naho' 33.0 5600.0 'WA']\n",
      " ['Steve' 45.0 6700.0 'PA']\n",
      " ['Charles' 25.0 5900.0 'TX']\n",
      " ['Chris' 18.0 nan 'NV']\n",
      " ['Peter' nan 9.0 'FL']]\n"
     ]
    }
   ],
   "source": [
    "# export as numpy array\n",
    "print(df_new.values)"
   ]
  },
  {
   "cell_type": "code",
   "execution_count": 21,
   "metadata": {},
   "outputs": [
    {
     "name": "stdout",
     "output_type": "stream",
     "text": [
      "      Name  Age  Salary Group\n",
      "0   Elaine   44    7000    MA\n",
      "1     Josh   17    5800    NW\n",
      "2      Lin   64    7900    NM\n",
      "3     Naho   33    5600    WA\n",
      "4    Steve   45    6700    PA\n",
      "5  Charles   25    5900    TX\n",
      "      Name  Location Team\n",
      "0     Josh    Boston    A\n",
      "1      Lin        DC    A\n",
      "2    Steve   Seattle    C\n",
      "3  Charles  San Jose    B\n",
      "4    Chris  New York    D\n",
      "5      Pan    Denver    C\n"
     ]
    }
   ],
   "source": [
    "df_left = pd.DataFrame({'Name': ['Elaine', 'Josh', 'Lin', 'Naho', 'Steve', 'Charles'],\n",
    "                   'Age': [44, 17, 64, 33, 45, 25],\n",
    "                   'Salary': [7000, 5800, 7900, 5600, 6700, 5900],\n",
    "                   'Group': ['MA', 'NW', 'NM', 'WA', 'PA', 'TX']})\n",
    "df_right = pd.DataFrame({'Name': ['Josh', 'Lin', 'Steve', 'Charles', 'Chris', 'Pan'],\n",
    "                   'Location': [\"Boston\", \"DC\", \"Seattle\", \"San Jose\", \"New York\", \"Denver\"],\n",
    "                   'Team': [\"A\", \"A\", \"C\", \"B\", \"D\", \"C\"]})\n",
    "\n",
    "print(df_left)\n",
    "print(df_right)"
   ]
  },
  {
   "cell_type": "code",
   "execution_count": 22,
   "metadata": {},
   "outputs": [
    {
     "data": {
      "text/html": [
       "<div>\n",
       "<style scoped>\n",
       "    .dataframe tbody tr th:only-of-type {\n",
       "        vertical-align: middle;\n",
       "    }\n",
       "\n",
       "    .dataframe tbody tr th {\n",
       "        vertical-align: top;\n",
       "    }\n",
       "\n",
       "    .dataframe thead th {\n",
       "        text-align: right;\n",
       "    }\n",
       "</style>\n",
       "<table border=\"1\" class=\"dataframe\">\n",
       "  <thead>\n",
       "    <tr style=\"text-align: right;\">\n",
       "      <th></th>\n",
       "      <th>Name</th>\n",
       "      <th>Age</th>\n",
       "      <th>Salary</th>\n",
       "      <th>Group</th>\n",
       "      <th>Location</th>\n",
       "      <th>Team</th>\n",
       "    </tr>\n",
       "  </thead>\n",
       "  <tbody>\n",
       "    <tr>\n",
       "      <td>0</td>\n",
       "      <td>Josh</td>\n",
       "      <td>17</td>\n",
       "      <td>5800</td>\n",
       "      <td>NW</td>\n",
       "      <td>Boston</td>\n",
       "      <td>A</td>\n",
       "    </tr>\n",
       "    <tr>\n",
       "      <td>1</td>\n",
       "      <td>Lin</td>\n",
       "      <td>64</td>\n",
       "      <td>7900</td>\n",
       "      <td>NM</td>\n",
       "      <td>DC</td>\n",
       "      <td>A</td>\n",
       "    </tr>\n",
       "    <tr>\n",
       "      <td>2</td>\n",
       "      <td>Steve</td>\n",
       "      <td>45</td>\n",
       "      <td>6700</td>\n",
       "      <td>PA</td>\n",
       "      <td>Seattle</td>\n",
       "      <td>C</td>\n",
       "    </tr>\n",
       "    <tr>\n",
       "      <td>3</td>\n",
       "      <td>Charles</td>\n",
       "      <td>25</td>\n",
       "      <td>5900</td>\n",
       "      <td>TX</td>\n",
       "      <td>San Jose</td>\n",
       "      <td>B</td>\n",
       "    </tr>\n",
       "  </tbody>\n",
       "</table>\n",
       "</div>"
      ],
      "text/plain": [
       "      Name  Age  Salary Group  Location Team\n",
       "0     Josh   17    5800    NW    Boston    A\n",
       "1      Lin   64    7900    NM        DC    A\n",
       "2    Steve   45    6700    PA   Seattle    C\n",
       "3  Charles   25    5900    TX  San Jose    B"
      ]
     },
     "execution_count": 22,
     "metadata": {},
     "output_type": "execute_result"
    }
   ],
   "source": [
    "# Merging two tables using intersection of keys from both frames\n",
    "pd.merge(df_left, df_right,how=\"inner\")\n"
   ]
  },
  {
   "cell_type": "code",
   "execution_count": 23,
   "metadata": {},
   "outputs": [
    {
     "data": {
      "text/html": [
       "<div>\n",
       "<style scoped>\n",
       "    .dataframe tbody tr th:only-of-type {\n",
       "        vertical-align: middle;\n",
       "    }\n",
       "\n",
       "    .dataframe tbody tr th {\n",
       "        vertical-align: top;\n",
       "    }\n",
       "\n",
       "    .dataframe thead th {\n",
       "        text-align: right;\n",
       "    }\n",
       "</style>\n",
       "<table border=\"1\" class=\"dataframe\">\n",
       "  <thead>\n",
       "    <tr style=\"text-align: right;\">\n",
       "      <th></th>\n",
       "      <th>Name</th>\n",
       "      <th>Age</th>\n",
       "      <th>Salary</th>\n",
       "      <th>Group</th>\n",
       "      <th>Location</th>\n",
       "      <th>Team</th>\n",
       "    </tr>\n",
       "  </thead>\n",
       "  <tbody>\n",
       "    <tr>\n",
       "      <td>0</td>\n",
       "      <td>Elaine</td>\n",
       "      <td>44.0</td>\n",
       "      <td>7000.0</td>\n",
       "      <td>MA</td>\n",
       "      <td>NaN</td>\n",
       "      <td>NaN</td>\n",
       "    </tr>\n",
       "    <tr>\n",
       "      <td>1</td>\n",
       "      <td>Josh</td>\n",
       "      <td>17.0</td>\n",
       "      <td>5800.0</td>\n",
       "      <td>NW</td>\n",
       "      <td>Boston</td>\n",
       "      <td>A</td>\n",
       "    </tr>\n",
       "    <tr>\n",
       "      <td>2</td>\n",
       "      <td>Lin</td>\n",
       "      <td>64.0</td>\n",
       "      <td>7900.0</td>\n",
       "      <td>NM</td>\n",
       "      <td>DC</td>\n",
       "      <td>A</td>\n",
       "    </tr>\n",
       "    <tr>\n",
       "      <td>3</td>\n",
       "      <td>Naho</td>\n",
       "      <td>33.0</td>\n",
       "      <td>5600.0</td>\n",
       "      <td>WA</td>\n",
       "      <td>NaN</td>\n",
       "      <td>NaN</td>\n",
       "    </tr>\n",
       "    <tr>\n",
       "      <td>4</td>\n",
       "      <td>Steve</td>\n",
       "      <td>45.0</td>\n",
       "      <td>6700.0</td>\n",
       "      <td>PA</td>\n",
       "      <td>Seattle</td>\n",
       "      <td>C</td>\n",
       "    </tr>\n",
       "    <tr>\n",
       "      <td>5</td>\n",
       "      <td>Charles</td>\n",
       "      <td>25.0</td>\n",
       "      <td>5900.0</td>\n",
       "      <td>TX</td>\n",
       "      <td>San Jose</td>\n",
       "      <td>B</td>\n",
       "    </tr>\n",
       "    <tr>\n",
       "      <td>6</td>\n",
       "      <td>Chris</td>\n",
       "      <td>NaN</td>\n",
       "      <td>NaN</td>\n",
       "      <td>NaN</td>\n",
       "      <td>New York</td>\n",
       "      <td>D</td>\n",
       "    </tr>\n",
       "    <tr>\n",
       "      <td>7</td>\n",
       "      <td>Pan</td>\n",
       "      <td>NaN</td>\n",
       "      <td>NaN</td>\n",
       "      <td>NaN</td>\n",
       "      <td>Denver</td>\n",
       "      <td>C</td>\n",
       "    </tr>\n",
       "  </tbody>\n",
       "</table>\n",
       "</div>"
      ],
      "text/plain": [
       "      Name   Age  Salary Group  Location Team\n",
       "0   Elaine  44.0  7000.0    MA       NaN  NaN\n",
       "1     Josh  17.0  5800.0    NW    Boston    A\n",
       "2      Lin  64.0  7900.0    NM        DC    A\n",
       "3     Naho  33.0  5600.0    WA       NaN  NaN\n",
       "4    Steve  45.0  6700.0    PA   Seattle    C\n",
       "5  Charles  25.0  5900.0    TX  San Jose    B\n",
       "6    Chris   NaN     NaN   NaN  New York    D\n",
       "7      Pan   NaN     NaN   NaN    Denver    C"
      ]
     },
     "execution_count": 23,
     "metadata": {},
     "output_type": "execute_result"
    }
   ],
   "source": [
    "# Merging two tables using union of keys from both frames\n",
    "pd.merge(df_left, df_right,how=\"outer\")\n"
   ]
  },
  {
   "cell_type": "code",
   "execution_count": 24,
   "metadata": {},
   "outputs": [
    {
     "data": {
      "text/html": [
       "<div>\n",
       "<style scoped>\n",
       "    .dataframe tbody tr th:only-of-type {\n",
       "        vertical-align: middle;\n",
       "    }\n",
       "\n",
       "    .dataframe tbody tr th {\n",
       "        vertical-align: top;\n",
       "    }\n",
       "\n",
       "    .dataframe thead th {\n",
       "        text-align: right;\n",
       "    }\n",
       "</style>\n",
       "<table border=\"1\" class=\"dataframe\">\n",
       "  <thead>\n",
       "    <tr style=\"text-align: right;\">\n",
       "      <th></th>\n",
       "      <th>Name</th>\n",
       "      <th>Age</th>\n",
       "      <th>Salary</th>\n",
       "      <th>Group</th>\n",
       "      <th>Location</th>\n",
       "      <th>Team</th>\n",
       "    </tr>\n",
       "  </thead>\n",
       "  <tbody>\n",
       "    <tr>\n",
       "      <td>0</td>\n",
       "      <td>Elaine</td>\n",
       "      <td>44</td>\n",
       "      <td>7000</td>\n",
       "      <td>MA</td>\n",
       "      <td>NaN</td>\n",
       "      <td>NaN</td>\n",
       "    </tr>\n",
       "    <tr>\n",
       "      <td>1</td>\n",
       "      <td>Josh</td>\n",
       "      <td>17</td>\n",
       "      <td>5800</td>\n",
       "      <td>NW</td>\n",
       "      <td>Boston</td>\n",
       "      <td>A</td>\n",
       "    </tr>\n",
       "    <tr>\n",
       "      <td>2</td>\n",
       "      <td>Lin</td>\n",
       "      <td>64</td>\n",
       "      <td>7900</td>\n",
       "      <td>NM</td>\n",
       "      <td>DC</td>\n",
       "      <td>A</td>\n",
       "    </tr>\n",
       "    <tr>\n",
       "      <td>3</td>\n",
       "      <td>Naho</td>\n",
       "      <td>33</td>\n",
       "      <td>5600</td>\n",
       "      <td>WA</td>\n",
       "      <td>NaN</td>\n",
       "      <td>NaN</td>\n",
       "    </tr>\n",
       "    <tr>\n",
       "      <td>4</td>\n",
       "      <td>Steve</td>\n",
       "      <td>45</td>\n",
       "      <td>6700</td>\n",
       "      <td>PA</td>\n",
       "      <td>Seattle</td>\n",
       "      <td>C</td>\n",
       "    </tr>\n",
       "    <tr>\n",
       "      <td>5</td>\n",
       "      <td>Charles</td>\n",
       "      <td>25</td>\n",
       "      <td>5900</td>\n",
       "      <td>TX</td>\n",
       "      <td>San Jose</td>\n",
       "      <td>B</td>\n",
       "    </tr>\n",
       "  </tbody>\n",
       "</table>\n",
       "</div>"
      ],
      "text/plain": [
       "      Name  Age  Salary Group  Location Team\n",
       "0   Elaine   44    7000    MA       NaN  NaN\n",
       "1     Josh   17    5800    NW    Boston    A\n",
       "2      Lin   64    7900    NM        DC    A\n",
       "3     Naho   33    5600    WA       NaN  NaN\n",
       "4    Steve   45    6700    PA   Seattle    C\n",
       "5  Charles   25    5900    TX  San Jose    B"
      ]
     },
     "execution_count": 24,
     "metadata": {},
     "output_type": "execute_result"
    }
   ],
   "source": [
    "# Merging two tables using keys from left frame only\n",
    "pd.merge(df_left, df_right,how=\"left\")\n"
   ]
  },
  {
   "cell_type": "code",
   "execution_count": 25,
   "metadata": {},
   "outputs": [
    {
     "data": {
      "text/html": [
       "<div>\n",
       "<style scoped>\n",
       "    .dataframe tbody tr th:only-of-type {\n",
       "        vertical-align: middle;\n",
       "    }\n",
       "\n",
       "    .dataframe tbody tr th {\n",
       "        vertical-align: top;\n",
       "    }\n",
       "\n",
       "    .dataframe thead th {\n",
       "        text-align: right;\n",
       "    }\n",
       "</style>\n",
       "<table border=\"1\" class=\"dataframe\">\n",
       "  <thead>\n",
       "    <tr style=\"text-align: right;\">\n",
       "      <th></th>\n",
       "      <th>Name</th>\n",
       "      <th>Age</th>\n",
       "      <th>Salary</th>\n",
       "      <th>Group</th>\n",
       "      <th>Location</th>\n",
       "      <th>Team</th>\n",
       "    </tr>\n",
       "  </thead>\n",
       "  <tbody>\n",
       "    <tr>\n",
       "      <td>0</td>\n",
       "      <td>Josh</td>\n",
       "      <td>17.0</td>\n",
       "      <td>5800.0</td>\n",
       "      <td>NW</td>\n",
       "      <td>Boston</td>\n",
       "      <td>A</td>\n",
       "    </tr>\n",
       "    <tr>\n",
       "      <td>1</td>\n",
       "      <td>Lin</td>\n",
       "      <td>64.0</td>\n",
       "      <td>7900.0</td>\n",
       "      <td>NM</td>\n",
       "      <td>DC</td>\n",
       "      <td>A</td>\n",
       "    </tr>\n",
       "    <tr>\n",
       "      <td>2</td>\n",
       "      <td>Steve</td>\n",
       "      <td>45.0</td>\n",
       "      <td>6700.0</td>\n",
       "      <td>PA</td>\n",
       "      <td>Seattle</td>\n",
       "      <td>C</td>\n",
       "    </tr>\n",
       "    <tr>\n",
       "      <td>3</td>\n",
       "      <td>Charles</td>\n",
       "      <td>25.0</td>\n",
       "      <td>5900.0</td>\n",
       "      <td>TX</td>\n",
       "      <td>San Jose</td>\n",
       "      <td>B</td>\n",
       "    </tr>\n",
       "    <tr>\n",
       "      <td>4</td>\n",
       "      <td>Chris</td>\n",
       "      <td>NaN</td>\n",
       "      <td>NaN</td>\n",
       "      <td>NaN</td>\n",
       "      <td>New York</td>\n",
       "      <td>D</td>\n",
       "    </tr>\n",
       "    <tr>\n",
       "      <td>5</td>\n",
       "      <td>Pan</td>\n",
       "      <td>NaN</td>\n",
       "      <td>NaN</td>\n",
       "      <td>NaN</td>\n",
       "      <td>Denver</td>\n",
       "      <td>C</td>\n",
       "    </tr>\n",
       "  </tbody>\n",
       "</table>\n",
       "</div>"
      ],
      "text/plain": [
       "      Name   Age  Salary Group  Location Team\n",
       "0     Josh  17.0  5800.0    NW    Boston    A\n",
       "1      Lin  64.0  7900.0    NM        DC    A\n",
       "2    Steve  45.0  6700.0    PA   Seattle    C\n",
       "3  Charles  25.0  5900.0    TX  San Jose    B\n",
       "4    Chris   NaN     NaN   NaN  New York    D\n",
       "5      Pan   NaN     NaN   NaN    Denver    C"
      ]
     },
     "execution_count": 25,
     "metadata": {},
     "output_type": "execute_result"
    }
   ],
   "source": [
    "# Merging two tables using keys from right frame only\n",
    "pd.merge(df_left, df_right,how=\"right\")\n"
   ]
  },
  {
   "cell_type": "code",
   "execution_count": 26,
   "metadata": {},
   "outputs": [
    {
     "data": {
      "text/html": [
       "<div>\n",
       "<style scoped>\n",
       "    .dataframe tbody tr th:only-of-type {\n",
       "        vertical-align: middle;\n",
       "    }\n",
       "\n",
       "    .dataframe tbody tr th {\n",
       "        vertical-align: top;\n",
       "    }\n",
       "\n",
       "    .dataframe thead th {\n",
       "        text-align: right;\n",
       "    }\n",
       "</style>\n",
       "<table border=\"1\" class=\"dataframe\">\n",
       "  <thead>\n",
       "    <tr style=\"text-align: right;\">\n",
       "      <th></th>\n",
       "      <th>Age</th>\n",
       "      <th>Salary</th>\n",
       "    </tr>\n",
       "    <tr>\n",
       "      <th>Team</th>\n",
       "      <th></th>\n",
       "      <th></th>\n",
       "    </tr>\n",
       "  </thead>\n",
       "  <tbody>\n",
       "    <tr>\n",
       "      <td>A</td>\n",
       "      <td>40.5</td>\n",
       "      <td>6850.0</td>\n",
       "    </tr>\n",
       "    <tr>\n",
       "      <td>B</td>\n",
       "      <td>25.0</td>\n",
       "      <td>5900.0</td>\n",
       "    </tr>\n",
       "    <tr>\n",
       "      <td>C</td>\n",
       "      <td>45.0</td>\n",
       "      <td>6700.0</td>\n",
       "    </tr>\n",
       "    <tr>\n",
       "      <td>D</td>\n",
       "      <td>NaN</td>\n",
       "      <td>NaN</td>\n",
       "    </tr>\n",
       "  </tbody>\n",
       "</table>\n",
       "</div>"
      ],
      "text/plain": [
       "       Age  Salary\n",
       "Team              \n",
       "A     40.5  6850.0\n",
       "B     25.0  5900.0\n",
       "C     45.0  6700.0\n",
       "D      NaN     NaN"
      ]
     },
     "execution_count": 26,
     "metadata": {},
     "output_type": "execute_result"
    }
   ],
   "source": [
    "# Group frame with specified column and get the mean values for each \"cluster\"\n",
    "(pd.merge(df_left, df_right,how=\"outer\").groupby([\"Team\"]).mean())\n"
   ]
  },
  {
   "cell_type": "code",
   "execution_count": 27,
   "metadata": {},
   "outputs": [],
   "source": [
    "# Visualize \n",
    "df_left.plot(x=\"Name\", y=[\"Age\",\"Salary\"], kind='bar');"
   ]
  },
  {
   "cell_type": "markdown",
   "metadata": {},
   "source": [
    "<font size=\"5\"> Challenge </font>  \n"
   ]
  },
  {
   "cell_type": "markdown",
   "metadata": {},
   "source": [
    "Implement a function process() that given the path to a CSV file as input, select those entries with a valid license (not NaN), room type of Private room, price less than or equal to 80, minimum nights less than or equal to 2, number of reviewers more than or equal to 500, or those with a valid license (not NaN), a room type of Entire home/apt, price less than or equal to 100, minimum nights less than or equal to 1, number of reviewers more than or equal to 100, and finally present the result sorted according to latitude and then longitude in an ascending order and with only columns of id, latitude, longitude, room_type, price and availability_365."
   ]
  },
  {
   "cell_type": "code",
   "execution_count": 28,
   "metadata": {},
   "outputs": [
    {
     "name": "stdout",
     "output_type": "stream",
     "text": [
      "None\n"
     ]
    }
   ],
   "source": [
    "def process(path):\n",
    "    \n",
    "    pass\n",
    "    \n",
    "df = process('listings.csv')\n",
    "print(df)"
   ]
  },
  {
   "cell_type": "code",
   "execution_count": null,
   "metadata": {},
   "outputs": [],
   "source": []
  }
 ],
 "metadata": {
  "interpreter": {
   "hash": "40d3a090f54c6569ab1632332b64b2c03c39dcf918b08424e98f38b5ae0af88f"
  },
  "kernelspec": {
   "display_name": "Python 3.7.4 64-bit ('base': conda)",
   "name": "python3"
  },
  "language_info": {
   "codemirror_mode": {
    "name": "ipython",
    "version": 3
   },
   "file_extension": ".py",
   "mimetype": "text/x-python",
   "name": "python",
   "nbconvert_exporter": "python",
   "pygments_lexer": "ipython3",
   "version": "3.7.4"
  }
 },
 "nbformat": 4,
 "nbformat_minor": 2
}
